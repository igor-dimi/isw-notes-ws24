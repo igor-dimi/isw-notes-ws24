{
 "cells": [
  {
   "cell_type": "code",
   "execution_count": 2,
   "metadata": {},
   "outputs": [
    {
     "data": {
      "text/plain": [
       "2"
      ]
     },
     "execution_count": 2,
     "metadata": {},
     "output_type": "execute_result"
    }
   ],
   "source": [
    "(2 + 3) // 2"
   ]
  },
  {
   "cell_type": "code",
   "execution_count": 2,
   "metadata": {},
   "outputs": [],
   "source": [
    "def binsearch(a, key) :\n",
    "    b = 0\n",
    "    t = len(a) - 1\n",
    "    # key possibly in a[b..t]\n",
    "    while b <= t and a[(b + t) // 2] != key :\n",
    "        if key < a[(b + t) // 2] : t = (b + t) // 2 - 1\n",
    "        else : b = (b + t) // 2 + 1\n",
    "    # b > t or a[(b + t) // 2 == key\n",
    "    if b <= t : return (b + t) // 2\n",
    "    return -1\n",
    "\n"
   ]
  },
  {
   "cell_type": "code",
   "execution_count": 10,
   "metadata": {},
   "outputs": [
    {
     "data": {
      "text/plain": [
       "-1"
      ]
     },
     "execution_count": 10,
     "metadata": {},
     "output_type": "execute_result"
    }
   ],
   "source": [
    "binsearch([1, 3], 4)"
   ]
  },
  {
   "cell_type": "code",
   "execution_count": 8,
   "metadata": {},
   "outputs": [
    {
     "data": {
      "text/plain": [
       "10"
      ]
     },
     "execution_count": 8,
     "metadata": {},
     "output_type": "execute_result"
    }
   ],
   "source": [
    "a = [1, 3, 10]\n",
    "a[len(a) - 1]"
   ]
  },
  {
   "cell_type": "code",
   "execution_count": 28,
   "metadata": {},
   "outputs": [],
   "source": [
    "def binsearchVL(a ,k) :\n",
    "    found = False\n",
    "    i = -1\n",
    "    N = len(a)\n",
    "    if N != 0 : \n",
    "        b = 0\n",
    "        t = N - 1\n",
    "        m = 0\n",
    "        # k possdibly in a[b..t] and (f => a[i] == k)\n",
    "        while b <= t and not found : \n",
    "            m = (b + t) // 2\n",
    "            if k == a[m] : \n",
    "                i = m \n",
    "                found = True\n",
    "            if k < a[m] : t = m - 1\n",
    "            if k > a[m] : b = m + 1\n",
    "        # ( b > t or f) and (k possibly in a[b..k]) and (f => a[i] == k)\n",
    "    return i"
   ]
  },
  {
   "cell_type": "code",
   "execution_count": 30,
   "metadata": {},
   "outputs": [
    {
     "data": {
      "text/plain": [
       "-1"
      ]
     },
     "execution_count": 30,
     "metadata": {},
     "output_type": "execute_result"
    }
   ],
   "source": [
    "a = [3, 10, 20]\n",
    "binsearchVL([3], 4)"
   ]
  },
  {
   "cell_type": "code",
   "execution_count": 7,
   "metadata": {},
   "outputs": [
    {
     "data": {
      "text/plain": [
       "False"
      ]
     },
     "execution_count": 7,
     "metadata": {},
     "output_type": "execute_result"
    }
   ],
   "source": [
    "found = False\n",
    "not not found"
   ]
  }
 ],
 "metadata": {
  "kernelspec": {
   "display_name": "Python 3",
   "language": "python",
   "name": "python3"
  },
  "language_info": {
   "codemirror_mode": {
    "name": "ipython",
    "version": 3
   },
   "file_extension": ".py",
   "mimetype": "text/x-python",
   "name": "python",
   "nbconvert_exporter": "python",
   "pygments_lexer": "ipython3",
   "version": "3.12.0"
  }
 },
 "nbformat": 4,
 "nbformat_minor": 2
}
